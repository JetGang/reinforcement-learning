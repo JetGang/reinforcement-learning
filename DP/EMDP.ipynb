{
 "cells": [
  {
   "cell_type": "code",
   "execution_count": 1,
   "metadata": {},
   "outputs": [],
   "source": [
    "import numpy as np"
   ]
  },
  {
   "cell_type": "code",
   "execution_count": 6,
   "metadata": {},
   "outputs": [],
   "source": [
    "BERTH = 10\n",
    "p_c = 0.2\n",
    "p_t = 0.5\n",
    "# V = np.zeros(BERTH)\n",
    "REVENUE_C = 0.1\n",
    "REVENUE_T = 0.3\n",
    "PUNISHMENT_C = 0.2\n",
    "PUNISHMENT_T = 0.4"
   ]
  },
  {
   "cell_type": "code",
   "execution_count": 7,
   "metadata": {},
   "outputs": [],
   "source": [
    "def discharge(y):\n",
    "  z = REVENUE_C - (REVENUE_C - REVENUE_T) * y / BERTH\n",
    "  return z"
   ]
  },
  {
   "cell_type": "code",
   "execution_count": null,
   "metadata": {},
   "outputs": [],
   "source": [
    "def value_iteration(p_c, p_t, theta=0.0001, discount_factor=1.0):\n",
    "    \n",
    "    def HC(x, y):\n",
    "        A = np.full(3, -np.inf)\n",
    "        if y > 0 and x + y < BERTH:\n",
    "            A[0] = discount_factor * V[x+1][y] + REVENUE_C\n",
    "            A[1] = discount_factor * V[x][y] - PUNISHMENT_C\n",
    "            A[2] = discount_factor * V[x+1][y-1] + REVENUE_C - discharge(y - 1)\n",
    "        elif y = 0 and y < BERTH:\n",
    "            A[0] = discount_factor * V[x+1][y] + REVENUE_C\n",
    "            A[1] = discount_factor * V[x][y] - PUNISHMENT_C\n",
    "        elif y > 0 and x + y = BERTH:\n",
    "            A[1] = discount_factor * V[x][y] - PUNISHMENT_C\n",
    "            A[2] = discount_factor * V[x+1][y-1] + REVENUE_C - discharge(y - 1)\n",
    "        else:\n",
    "            A[1] = V[x][y] - PUNISHMENT_C\n",
    "        return  np.argmax(A), np.max(A)\n",
    "        \n",
    "    def HT(x, y):\n",
    "        A = np.full(2, -np.inf)\n",
    "        if x + y < BERTH:\n",
    "            A[0] = discount_factor * V[x][y+1] + REVENUE_T\n",
    "            A[1] = discount_factor * V[x][y] - PUNISHMENT_T\n",
    "        elif x + y == BERTH:\n",
    "             A[1] = discount_factor * V[x][y] - PUNISHMENT_T\n",
    "        return  np.argmax(A), np.max(A)\n",
    "            \n",
    "    V = np.zeros((BERTH + 1, BERTH + 1))\n",
    "    policy_C = np.zeros((BERTH + 1, BERTH + 1))\n",
    "    policy_T = np.zeros((BERTH + 1, BERTH + 1))\n",
    "    \n",
    "    while True:\n",
    "        delta = 0\n",
    "        value = np.zeros((BERTH + 1, BERTH + 1))\n",
    "        for x in range(BERTH):\n",
    "            for y in range(BERTH):\n",
    "                _, best_value_c = HC(x, y)\n",
    "                _, best_value_t = HT(x, y)\n",
    "                value[x][y] = pc * best_value_c + p_t * best_action_t\n",
    "                if x == 0 and y == 0:\n",
    "                    value[x][y] += MU * BERTH * V[x][y]\n",
    "                elifx > 0 and y == 0:\n",
    "                    value[x][y] += MU * x * V[x-1][y] + MU * (BERTH - x) * V[x][y]\n",
    "                elif x == 0 and y > 0:\n",
    "                    value[x][y] += MU * y * V[x][y-1] + MU * (BERTH - y) * V[x][y]\n",
    "                else:\n",
    "                    value[x][y] += MU * x * V[x-1][y] + MU * y * V[x][y-1] + MU * (BERTH - x - y) * V[x][y]\n",
    "                    \n",
    "                delta = max(delt, np.abs(value[x][y] - V[x][y]))\n",
    "                \n",
    "        if delta < theta:\n",
    "            break\n",
    "            \n",
    "    for x in range(BERTH):\n",
    "        for y in range(BERTH):\n",
    "            policy_C[x][y], _ = HC(x, y)\n",
    "            policy_T[x][y], _ = HT(x, y)\n",
    "            \n",
    "    return V, policy_C, policy_T\n",
    "                \n",
    "        "
   ]
  }
 ],
 "metadata": {
  "kernelspec": {
   "display_name": "Python 3",
   "language": "python",
   "name": "python3"
  },
  "language_info": {
   "codemirror_mode": {
    "name": "ipython",
    "version": 3
   },
   "file_extension": ".py",
   "mimetype": "text/x-python",
   "name": "python",
   "nbconvert_exporter": "python",
   "pygments_lexer": "ipython3",
   "version": "3.7.7"
  }
 },
 "nbformat": 4,
 "nbformat_minor": 4
}
