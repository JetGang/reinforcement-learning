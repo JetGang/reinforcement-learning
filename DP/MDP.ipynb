{
 "cells": [
  {
   "cell_type": "code",
   "execution_count": 504,
   "metadata": {},
   "outputs": [],
   "source": [
    "import time\n",
    "import numpy as np"
   ]
  },
  {
   "cell_type": "code",
   "execution_count": 505,
   "metadata": {},
   "outputs": [],
   "source": [
    "BERTH = 10\n",
    "numIteration = 1000\n",
    "\n",
    "radio_REVENUE = 1.2 # > 0\n",
    "radio_ARRIVAL = 0.5 # (0, 1)\n",
    "\n",
    "REVENUE_T = 0.1\n",
    "REVENUE_C = radio_REVENUE * REVENUE_T\n",
    "\n",
    "p_C = radio_ARRIVAL * 0.52\n",
    "p_T = 0.52 - p_C\n",
    "p_deC = p_C - 0.02\n",
    "p_deT = p_T - 0.02"
   ]
  },
  {
   "cell_type": "code",
   "execution_count": 506,
   "metadata": {},
   "outputs": [],
   "source": [
    "# action = np.ones((BERTH + 1, BERTH + 1))\n",
    "# r = np.zeros((BERTH + 1, BERTH + 1, 2))\n",
    "# p = np.zeros((BERTH + 1, BERTH + 1, 2))"
   ]
  },
  {
   "cell_type": "code",
   "execution_count": 507,
   "metadata": {},
   "outputs": [],
   "source": [
    "def discharge(y):\n",
    "  z = p_C/(p_C+p_T)*REVENUE_C + p_T/(p_C+p_T)*REVENUE_T - p_C/(p_C+p_T)*REVENUE_C * y / BERTH\n",
    "  return z\n",
    "\n",
    "def initial_a():\n",
    "    a = np.zeros((BERTH + 1, BERTH + 1))\n",
    "    for x in range(BERTH + 1):\n",
    "        for y in range(BERTH - x + 1):\n",
    "            a[x,y] = 1\n",
    "    a[BERTH,0] = 3\n",
    "    return a\n",
    "\n",
    "def initial_r(p_c, p_t):\n",
    "    r = np.zeros((BERTH + 1, BERTH + 1, 2))\n",
    "    for x in range(BERTH + 1):\n",
    "        for y in range(BERTH - x + 1):\n",
    "            if x + y < BERTH:\n",
    "                r[x,y,0] = p_c * REVENUE_C + p_t * REVENUE_T\n",
    "            elif x + y == BERTH and y > 0:\n",
    "                r[x,y,1] = p_c * REVENUE_C + p_t * REVENUE_T - discharge(y)\n",
    "    return r\n",
    "                    \n",
    "def initial_p(p_c, p_t, p_dec, p_det):\n",
    "    p = np.zeros((BERTH + 1, BERTH + 1, BERTH + 1, BERTH + 1, 2))\n",
    "    for x in range(BERTH + 1):\n",
    "        for y in range(BERTH - x + 1):\n",
    "            for a in range(2):\n",
    "                if x + y < BERTH and a == 0:\n",
    "                    p[x+1,y  ,x,y,a] = p_c\n",
    "                    p[x  ,y+1,x,y,a] = p_t\n",
    "                    p[x-1,y  ,x,y,a] = p_dec * (x / BERTH)\n",
    "                    p[x,y-1  ,x,y,a] = p_det * (y / BERTH)\n",
    "                    p[x,  y  ,x,y,a] = 1. - p_c - p_t - p_dec * (x / BERTH) - p_det * (y / BERTH)\n",
    "                elif x + y == BERTH and y == 0 and a == 0:\n",
    "                    p[x-1,y  ,x,y,a] = p_dec * (x / BERTH)\n",
    "                    p[x  ,y  ,x,y,a] = 1. - p_dec * (x / BERTH)\n",
    "                elif x + y == BERTH and y > 0:\n",
    "                    p[x+1,y-1,x,y,a] = p_c * a\n",
    "                    p[x-1,  y,x,y,a] = p_dec * (x / BERTH)\n",
    "                    p[x  ,y-1,x,y,a] = p_det * (y / BERTH)\n",
    "                    p[x  ,y  ,x,y,a] = 1. - p_c * a - p_dec * (x / BERTH) - p_det * (y / BERTH)\n",
    "    return p"
   ]
  },
  {
   "cell_type": "code",
   "execution_count": 508,
   "metadata": {},
   "outputs": [],
   "source": [
    "def one_step_likeahead(V, R, P, x, y, discount_factor=1.0):\n",
    "    A = np.zeros(2)\n",
    "    for a in range(2):\n",
    "        A[a] = R[x, y, a] + discount_factor * np.sum(np.multiply(P[:, :, x, y, a], V))\n",
    "    return A"
   ]
  },
  {
   "cell_type": "code",
   "execution_count": 509,
   "metadata": {},
   "outputs": [],
   "source": [
    "def value_iteration(p_c, p_t, a, r, p, max_iteration=-1, theta=0.0001, discount_factor=1.0):\n",
    "    \n",
    "    v = np.zeros((BERTH + 1, BERTH + 1))\n",
    "    count = 0\n",
    "    \n",
    "    while True:\n",
    "        count += 1\n",
    "        delta = 0\n",
    "        for x in range(BERTH + 1):\n",
    "            for y in range(BERTH - x + 1):\n",
    "                actions = one_step_likeahead(v, r, p, x, y)\n",
    "                best_action = max(actions)\n",
    "                delta = max(delta, np.abs(best_action - v[x,y]))\n",
    "                v[x,y] = best_action\n",
    "        if delta < theta:\n",
    "            break\n",
    "        if max_iteration > 0 and count >= max_iteration:\n",
    "            break\n",
    "    \n",
    "#     policy = np.zeros((BERTH + 1, BERTH + 1))\n",
    "    for x in range(BERTH + 1):\n",
    "        for y in range(BERTH - x + 1):\n",
    "            if x + y == BERTH and y > 0:\n",
    "                actions = one_step_likeahead(v, r, p, x, y)\n",
    "                if np.argmax(actions) == 0:\n",
    "                    a[x][y] = 3\n",
    "                else:\n",
    "                    a[x][y] = 2\n",
    "                    \n",
    "    return v, a"
   ]
  },
  {
   "cell_type": "code",
   "execution_count": 510,
   "metadata": {},
   "outputs": [
    {
     "name": "stdout",
     "output_type": "stream",
     "text": [
      "[[32.37461726 32.32566127 32.27301269 32.21634945 32.1553199  32.08955172\n",
      "  32.01867833 31.94240628 31.86067804 31.77405884 31.68465242]\n",
      " [32.32550748 32.27279863 32.21603758 32.15484261 32.08878264 32.01737268\n",
      "  31.94007312 31.85630033 31.76546692 31.66710113  0.        ]\n",
      " [32.27269093 32.215896   32.15464932 32.08850727 32.01696145 31.9394268\n",
      "  31.85522726 31.76357824 31.66356346  0.          0.        ]\n",
      " [32.21581649 32.15454995 32.08837961 32.01679241 31.93919559 31.85490039\n",
      "  31.76310171 31.66285215  0.          0.          0.        ]\n",
      " [32.15448815 32.08830531 32.01670126 31.9390813  31.85475376 31.76290915\n",
      "  31.66259366  0.          0.          0.          0.        ]\n",
      " [32.08825523 32.01664273 31.93901186 31.85467002 31.76280638 31.66246525\n",
      "   0.          0.          0.          0.          0.        ]\n",
      " [32.0166008  31.93896389 31.85461448 31.76274126 31.66238782  0.\n",
      "   0.          0.          0.          0.          0.        ]\n",
      " [31.93892788 31.85457395 31.7626952  31.66233493  0.          0.\n",
      "   0.          0.          0.          0.          0.        ]\n",
      " [31.85454243 31.76266016 31.66229568  0.          0.          0.\n",
      "   0.          0.          0.          0.          0.        ]\n",
      " [31.76263214 31.66226485  0.          0.          0.          0.\n",
      "   0.          0.          0.          0.          0.        ]\n",
      " [31.66223962  0.          0.          0.          0.          0.\n",
      "   0.          0.          0.          0.          0.        ]]\n",
      "[[1. 1. 1. 1. 1. 1. 1. 1. 1. 1. 2.]\n",
      " [1. 1. 1. 1. 1. 1. 1. 1. 1. 2. 0.]\n",
      " [1. 1. 1. 1. 1. 1. 1. 1. 3. 0. 0.]\n",
      " [1. 1. 1. 1. 1. 1. 1. 3. 0. 0. 0.]\n",
      " [1. 1. 1. 1. 1. 1. 3. 0. 0. 0. 0.]\n",
      " [1. 1. 1. 1. 1. 3. 0. 0. 0. 0. 0.]\n",
      " [1. 1. 1. 1. 3. 0. 0. 0. 0. 0. 0.]\n",
      " [1. 1. 1. 3. 0. 0. 0. 0. 0. 0. 0.]\n",
      " [1. 1. 3. 0. 0. 0. 0. 0. 0. 0. 0.]\n",
      " [1. 3. 0. 0. 0. 0. 0. 0. 0. 0. 0.]\n",
      " [3. 0. 0. 0. 0. 0. 0. 0. 0. 0. 0.]]\n",
      "1.7974328994750977\n"
     ]
    }
   ],
   "source": [
    "t1 = time.time()\n",
    "# a = np.ones((BERTH + 1, BERTH + 1))\n",
    "a = initial_a()\n",
    "r = initial_r(p_C, p_T)\n",
    "p = initial_p(p_C, p_T, p_deC, p_deT)\n",
    "# p = initial_p()\n",
    "Value, Action = value_iteration(p_C, p_T, a, r, p, numIteration)\n",
    "print(Value)\n",
    "print(Action)\n",
    "print(time.time() - t1)"
   ]
  }
 ],
 "metadata": {
  "kernelspec": {
   "display_name": "Python 3",
   "language": "python",
   "name": "python3"
  },
  "language_info": {
   "codemirror_mode": {
    "name": "ipython",
    "version": 3
   },
   "file_extension": ".py",
   "mimetype": "text/x-python",
   "name": "python",
   "nbconvert_exporter": "python",
   "pygments_lexer": "ipython3",
   "version": "3.7.7"
  }
 },
 "nbformat": 4,
 "nbformat_minor": 4
}
