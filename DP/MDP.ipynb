{
 "cells": [
  {
   "cell_type": "code",
   "execution_count": 1,
   "metadata": {},
   "outputs": [],
   "source": [
    "import numpy as np"
   ]
  },
  {
   "cell_type": "code",
   "execution_count": 2,
   "metadata": {},
   "outputs": [],
   "source": [
    "BERTH = 10\n",
    "p_c = 0.2\n",
    "p_t = 0.5\n",
    "# V = np.zeros(BERTH)\n",
    "REVENUE_C = 0.1\n",
    "REVENUE_T = 0.3\n",
    "PUNISHMENT_C = 0.2\n",
    "PUNISHMENT_T = 0.4"
   ]
  },
  {
   "cell_type": "code",
   "execution_count": 5,
   "metadata": {},
   "outputs": [],
   "source": [
    "action = np.ones((BERTH + 1, BERTH + 1))\n",
    "r = np.zeros((BERTH + 1, BERTH + 1, 2))\n",
    "p = np.zeros((BERTH + 1, BERTH + 1, 2))"
   ]
  },
  {
   "cell_type": "code",
   "execution_count": 6,
   "metadata": {},
   "outputs": [],
   "source": [
    "def discharge(y):\n",
    "  z = REVENUE_C - (REVENUE_C - REVENUE_T) * y / BERTH\n",
    "  return z\n",
    "\n",
    "# def initial_a():\n",
    "#     for x in range(BERTH):\n",
    "#         for y in range(BERTH):\n",
    "#             if x + y == BERTH and y > 0:\n",
    "#                 action[x,y] = 1\n",
    "#             else:\n",
    "#                 action[x,y] = 3\n",
    "\n",
    "def initial_r():\n",
    "    for x in range(BERTH):\n",
    "        for y in range(BERTH):\n",
    "            for a in range(1):\n",
    "                if x + y < BERTH and a == 0:\n",
    "                    r[x,y,a] = p_c * REVENUE_C + p_t * REVENUE_T\n",
    "                elif x + y == BERTH and y >= 0 and a == 0:\n",
    "                    r[x,y,a] = p_c * (-PUNISHMENT_C) + p_t * (-PUNISHMENT_T)\n",
    "                elif x + y == BERTH and y > 0 and a == 1:\n",
    "                    r[x,y,a] = p_c * REVENUE_C + p_t * REVENUE_T - discharge(y)\n",
    "                    \n",
    "def initial_p():\n",
    "    for x in range(BERTH):\n",
    "        for y in range(BERTH):\n",
    "            for a in range(1):\n",
    "                if x + y < BERTH:\n",
    "                    p[x+1,y,a] = p_c\n",
    "                    p[x,y+1,a] = p_t\n",
    "                    p[x-1,y,a] = MU * x\n",
    "                    p[x,y-1,a] = MU * y\n",
    "                    p[x,  y,a] = 1 - p_c - p_t - MU * x - MU * y\n",
    "                elif x + y == BERTH and y == 0:\n",
    "                    p[x-1,y,a] = MU * x\n",
    "                    p[x  ,y,a] = 1 - MU * x\n",
    "                elif x + y == BERTH and y > 0:\n",
    "                    p[x+1,y-1,a] = p_c * a\n",
    "                    p[x-1,  y,a] = MU * x\n",
    "                    p[x  ,y-1,a] = MU * y\n",
    "                    p[x  ,y  ,a] = 1- p_c * a - MU * x - MU * y"
   ]
  },
  {
   "cell_type": "code",
   "execution_count": null,
   "metadata": {},
   "outputs": [],
   "source": [
    "def value_iteration(p_c, p_t, theta=0.0001, discount_factor=1.0):\n",
    "    \n",
    "    def one_step_likeahead(V, x, y):\n",
    "        A = np.zeros(2)\n",
    "        for a in range(1):\n",
    "            A[a] = r[x,y,a] + discount_factor * p[x,y,a] * V[x,y,a]\n",
    "        return A\n",
    "    \n",
    "    V = np.zeros((BERTH + 1, BERTH + 1))\n",
    "    \n",
    "    while True:\n",
    "        delta = 0\n",
    "        for x in range(BERTH):\n",
    "            for y in range(BERTH):\n",
    "                A = one_step_likeahead(V, x, y)\n",
    "                best_action = max(A)\n",
    "                delta = max(delta, np.abs(best_action - V[x,y]))\n",
    "                V[x,y] = best_action\n",
    "        if delta < theta:\n",
    "            break\n",
    "    \n",
    "#     policy = np.zeros((BERTH + 1, BERTH + 1))\n",
    "    for x in range(BERTH):\n",
    "        for y in range(BERTH):\n",
    "            if x + y == BERTH and y > 0:\n",
    "                A = one_step_likeahead(V, x, y)\n",
    "                if np.argmax(A) == 0:\n",
    "                    action[x][y] = 3\n",
    "                else:\n",
    "                    action[x][y] = 2"
   ]
  }
 ],
 "metadata": {
  "kernelspec": {
   "display_name": "Python 3",
   "language": "python",
   "name": "python3"
  },
  "language_info": {
   "codemirror_mode": {
    "name": "ipython",
    "version": 3
   },
   "file_extension": ".py",
   "mimetype": "text/x-python",
   "name": "python",
   "nbconvert_exporter": "python",
   "pygments_lexer": "ipython3",
   "version": "3.7.7"
  }
 },
 "nbformat": 4,
 "nbformat_minor": 4
}
